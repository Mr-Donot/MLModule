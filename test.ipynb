{
 "cells": [
  {
   "cell_type": "markdown",
   "metadata": {},
   "source": [
    "# Train a model on the MNIST digit dataset"
   ]
  },
  {
   "cell_type": "markdown",
   "metadata": {},
   "source": [
    "First, let's import everything we need : "
   ]
  },
  {
   "cell_type": "code",
   "execution_count": 1,
   "metadata": {},
   "outputs": [],
   "source": [
    "from MLModule.utils import get_data_from_csv\n",
    "from MLModule.model import NeuralNetwork\n",
    "from MLModule.display import plot_cost_history\n",
    "from MLModule.utils import reduce_dataset, print_confusion_matrix"
   ]
  },
  {
   "cell_type": "markdown",
   "metadata": {},
   "source": [
    "Now, we need the dataset that we train on. For that, you can download it here : https://www.kaggle.com/datasets/nietzs96/mnist-5k\n",
    "\n",
    "And put this csv file in the data folder."
   ]
  },
  {
   "cell_type": "code",
   "execution_count": 2,
   "metadata": {},
   "outputs": [],
   "source": [
    "DATA_PATH = \"data/mnist1.5k.csv\"\n",
    "\n",
    "#We parse the csv into 2 variables. the Xs are the input data (here, the value of each pixel of each images)\n",
    "# and the ys are the expected output for each images.\n",
    "full_Xs, full_ys = get_data_from_csv(DATA_PATH, header=True)"
   ]
  },
  {
   "cell_type": "code",
   "execution_count": 3,
   "metadata": {},
   "outputs": [],
   "source": [
    "#Now we choose a name for the model. It will be use to store the model into a file after training it.\n",
    "MODEL_NAME = \"mnist1.5k_64_16\""
   ]
  },
  {
   "cell_type": "code",
   "execution_count": 4,
   "metadata": {},
   "outputs": [
    {
     "name": "stdout",
     "output_type": "stream",
     "text": [
      "Weights loaded successfully.\n"
     ]
    }
   ],
   "source": [
    "#Here, we create the model by giving him the correct values so he can train on the dataset\n",
    "hidden_layers = [64, 16]\n",
    "model = NeuralNetwork(\n",
    "    nb_input=len(full_Xs[0]),\n",
    "    hidden_layers=hidden_layers,\n",
    "    nb_output=len(full_ys[0]),\n",
    "    name=MODEL_NAME\n",
    "    )\n",
    "\n",
    "#This PATH variable will be use to store the model after a training\n",
    "PATH = \"model/\"+MODEL_NAME+\".pkl\"\n",
    "\n",
    "#For this boolean : true means we store the cost after each training in a file, false means we don't\n",
    "keeping_track_cost = True\n"
   ]
  },
  {
   "cell_type": "markdown",
   "metadata": {},
   "source": [
    "Below, we create a training function. This can be use many times in order to train our model. "
   ]
  },
  {
   "cell_type": "code",
   "execution_count": 5,
   "metadata": {},
   "outputs": [],
   "source": [
    "def training_model(model : NeuralNetwork, full_Xs: list[list[float]], full_ys: list[list[float]], nb_training = 10, mini_batch_proportion=0.1, learning_rate=0.01, random_node_pass_rate=0.0):\n",
    "\n",
    "    nb_to_print = nb_training // 10\n",
    "    cost = None if not keeping_track_cost else 0\n",
    "    for i in range(nb_training):\n",
    "        #mini-batch technique, to avoid overfitting and to reduce time for each training\n",
    "        Xs, ys = reduce_dataset(full_Xs, full_ys, mini_batch_proportion)\n",
    "        \n",
    "        cost = model.learn(Xs, ys, learning_rate, keeping_track_cost, random_node_pass_rate)\n",
    "        if (i+1)%(nb_to_print) == 0 :\n",
    "            print(f\"training {i+1} / {nb_training} completed\")\n",
    "            print(f\"Cost : {cost}\\n\" if cost is not None else f\"Not keeping track of the cost during the training\\n\")\n",
    "    \n",
    "    model.save_weights(path=PATH)\n"
   ]
  },
  {
   "cell_type": "code",
   "execution_count": 6,
   "metadata": {},
   "outputs": [
    {
     "name": "stdout",
     "output_type": "stream",
     "text": [
      "training 50 / 500 completed\n",
      "Cost : 0.5988751168138337\n",
      "\n",
      "training 100 / 500 completed\n",
      "Cost : 0.6009285931012804\n",
      "\n",
      "training 150 / 500 completed\n",
      "Cost : 0.599605579097034\n",
      "\n",
      "training 200 / 500 completed\n",
      "Cost : 0.5989509219838464\n",
      "\n",
      "training 250 / 500 completed\n",
      "Cost : 0.5971882742923496\n",
      "\n",
      "training 300 / 500 completed\n",
      "Cost : 0.5970175360373724\n",
      "\n",
      "training 350 / 500 completed\n",
      "Cost : 0.6010862579582191\n",
      "\n",
      "training 400 / 500 completed\n",
      "Cost : 0.5925358383837201\n",
      "\n",
      "training 450 / 500 completed\n",
      "Cost : 0.5982745342772595\n",
      "\n",
      "training 500 / 500 completed\n",
      "Cost : 0.5976059958379846\n",
      "\n"
     ]
    }
   ],
   "source": [
    "#To train the model, run again and again this block of code\n",
    "\n",
    "nb_training = 500                   # number of training\n",
    "mini_batch_proportion = 0.8         # Proportion of the full dataset we train to\n",
    "learning_rate = 0.001               # How much we change the weights\n",
    "random_node_pass_rate = 0.0         # Proportion of weights we don't touch after a training\n",
    "\n",
    "training_model(model, full_Xs, full_ys, nb_training, mini_batch_proportion, learning_rate, random_node_pass_rate)"
   ]
  },
  {
   "cell_type": "markdown",
   "metadata": {},
   "source": [
    "#### Results : "
   ]
  },
  {
   "cell_type": "code",
   "execution_count": 8,
   "metadata": {},
   "outputs": [
    {
     "data": {
      "image/png": "[encoded data removed]",
      "text/plain": [
       "<Figure size 640x480 with 1 Axes>"
      ]
     },
     "metadata": {},
     "output_type": "display_data"
    },
    {
     "name": "stdout",
     "output_type": "stream",
     "text": [
      "Expected (---) / Predicted (|||)\n",
      "[50, 0, 0]\n",
      "[8, 3, 39]\n",
      "[0, 0, 50]\n",
      "0 : 100.0 %\n",
      "1 : 6.0 %\n",
      "2 : 100.0 %\n",
      "Overall accuracy : 68.67 %\n"
     ]
    }
   ],
   "source": [
    "#After any training, we can see the model's progression\n",
    "\n",
    "plot_cost_history(MODEL_NAME)\n",
    "print_confusion_matrix(model, full_Xs, full_ys)"
   ]
  }
 ],
 "metadata": {
  "kernelspec": {
   "display_name": "Python 3",
   "language": "python",
   "name": "python3"
  },
  "language_info": {
   "codemirror_mode": {
    "name": "ipython",
    "version": 3
   },
   "file_extension": ".py",
   "mimetype": "text/x-python",
   "name": "python",
   "nbconvert_exporter": "python",
   "pygments_lexer": "ipython3",
   "version": "3.9.13"
  }
 },
 "nbformat": 4,
 "nbformat_minor": 2
}
